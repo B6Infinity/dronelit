{
 "cells": [
  {
   "cell_type": "code",
   "execution_count": null,
   "metadata": {},
   "outputs": [
    {
     "name": "stderr",
     "output_type": "stream",
     "text": [
      "WARNING:autopilot:GCS Failsafe\n",
      "WARNING:autopilot:GCS Failsafe Cleared\n"
     ]
    },
    {
     "name": "stdout",
     "output_type": "stream",
     "text": [
      "Starting copter simulator (SITL)\n",
      "SITL already Downloaded and Extracted.\n",
      "Ready to boot.\n"
     ]
    },
    {
     "name": "stderr",
     "output_type": "stream",
     "text": [
      "CRITICAL:autopilot:PreArm: Hardware safety switch\n",
      "CRITICAL:autopilot:PreArm: Compasses inconsistent\n",
      "CRITICAL:autopilot:PreArm: Battery 1 low voltage failsafe\n"
     ]
    },
    {
     "name": "stderr",
     "output_type": "stream",
     "text": [
      "CRITICAL:autopilot:PreArm: Hardware safety switch\n",
      "CRITICAL:autopilot:PreArm: Compasses inconsistent\n",
      "CRITICAL:autopilot:PreArm: Battery 1 low voltage failsafe\n",
      "CRITICAL:autopilot:PreArm: Hardware safety switch\n",
      "CRITICAL:autopilot:PreArm: Compasses inconsistent\n",
      "CRITICAL:autopilot:PreArm: Battery 1 low voltage failsafe\n",
      "CRITICAL:autopilot:PreArm: Hardware safety switch\n",
      "CRITICAL:autopilot:PreArm: Compasses inconsistent\n",
      "CRITICAL:autopilot:PreArm: Battery 1 low voltage failsafe\n",
      "CRITICAL:autopilot:PreArm: Hardware safety switch\n",
      "CRITICAL:autopilot:PreArm: Compasses inconsistent\n",
      "CRITICAL:autopilot:PreArm: Battery 1 low voltage failsafe\n",
      "CRITICAL:autopilot:PreArm: Hardware safety switch\n",
      "CRITICAL:autopilot:PreArm: Compasses inconsistent\n",
      "CRITICAL:autopilot:PreArm: Battery 1 low voltage failsafe\n",
      "CRITICAL:autopilot:PreArm: Hardware safety switch\n",
      "CRITICAL:autopilot:PreArm: Compasses inconsistent\n",
      "CRITICAL:autopilot:PreArm: Battery 1 low voltage failsafe\n",
      "CRITICAL:autopilot:PreArm: Hardware safety switch\n",
      "CRITICAL:autopilot:PreArm: Compasses inconsistent\n",
      "CRITICAL:autopilot:PreArm: Battery 1 low voltage failsafe\n",
      "CRITICAL:autopilot:PreArm: Hardware safety switch\n",
      "CRITICAL:autopilot:PreArm: Compasses inconsistent\n",
      "CRITICAL:autopilot:PreArm: Battery 1 low voltage failsafe\n",
      "CRITICAL:autopilot:PreArm: Hardware safety switch\n",
      "CRITICAL:autopilot:PreArm: Compasses inconsistent\n",
      "CRITICAL:autopilot:PreArm: Battery 1 low voltage failsafe\n",
      "CRITICAL:autopilot:PreArm: Hardware safety switch\n",
      "CRITICAL:autopilot:PreArm: Compasses inconsistent\n",
      "CRITICAL:autopilot:PreArm: Battery 1 low voltage failsafe\n",
      "CRITICAL:autopilot:PreArm: Hardware safety switch\n",
      "CRITICAL:autopilot:PreArm: Compasses inconsistent\n",
      "CRITICAL:autopilot:PreArm: Battery 1 low voltage failsafe\n",
      "CRITICAL:autopilot:PreArm: Hardware safety switch\n",
      "CRITICAL:autopilot:PreArm: Compasses inconsistent\n",
      "CRITICAL:autopilot:PreArm: Battery 1 low voltage failsafe\n",
      "CRITICAL:autopilot:PreArm: Hardware safety switch\n",
      "CRITICAL:autopilot:PreArm: Compasses inconsistent\n",
      "CRITICAL:autopilot:PreArm: Battery 1 low voltage failsafe\n",
      "CRITICAL:autopilot:PreArm: Hardware safety switch\n",
      "CRITICAL:autopilot:PreArm: Compasses inconsistent\n",
      "CRITICAL:autopilot:PreArm: Battery 1 low voltage failsafe\n",
      "CRITICAL:autopilot:PreArm: Hardware safety switch\n",
      "CRITICAL:autopilot:PreArm: Compasses inconsistent\n",
      "CRITICAL:autopilot:PreArm: Battery 1 low voltage failsafe\n",
      "CRITICAL:autopilot:PreArm: Hardware safety switch\n",
      "CRITICAL:autopilot:PreArm: Compasses inconsistent\n",
      "CRITICAL:autopilot:PreArm: Battery 1 low voltage failsafe\n",
      "CRITICAL:autopilot:PreArm: Hardware safety switch\n",
      "CRITICAL:autopilot:PreArm: Compasses inconsistent\n",
      "CRITICAL:autopilot:PreArm: Battery 1 low voltage failsafe\n",
      "CRITICAL:autopilot:PreArm: Hardware safety switch\n",
      "CRITICAL:autopilot:PreArm: Compasses inconsistent\n",
      "CRITICAL:autopilot:PreArm: Battery 1 low voltage failsafe\n",
      "CRITICAL:autopilot:PreArm: Hardware safety switch\n",
      "CRITICAL:autopilot:PreArm: Compasses inconsistent\n",
      "CRITICAL:autopilot:PreArm: Battery 1 low voltage failsafe\n",
      "CRITICAL:autopilot:PreArm: Hardware safety switch\n",
      "CRITICAL:autopilot:PreArm: Compasses inconsistent\n",
      "CRITICAL:autopilot:PreArm: Battery 1 low voltage failsafe\n",
      "CRITICAL:autopilot:PreArm: Hardware safety switch\n",
      "CRITICAL:autopilot:PreArm: Compasses inconsistent\n",
      "CRITICAL:autopilot:PreArm: Battery 1 low voltage failsafe\n",
      "CRITICAL:autopilot:PreArm: Hardware safety switch\n",
      "CRITICAL:autopilot:PreArm: Compasses inconsistent\n",
      "CRITICAL:autopilot:PreArm: Battery 1 low voltage failsafe\n",
      "CRITICAL:autopilot:PreArm: Hardware safety switch\n",
      "CRITICAL:autopilot:PreArm: Compasses inconsistent\n",
      "CRITICAL:autopilot:PreArm: Battery 1 low voltage failsafe\n",
      "CRITICAL:autopilot:PreArm: Hardware safety switch\n",
      "CRITICAL:autopilot:PreArm: Compasses inconsistent\n",
      "CRITICAL:autopilot:PreArm: Battery 1 low voltage failsafe\n",
      "CRITICAL:autopilot:PreArm: Hardware safety switch\n",
      "CRITICAL:autopilot:PreArm: Compasses inconsistent\n",
      "CRITICAL:autopilot:PreArm: Battery 1 low voltage failsafe\n"
     ]
    }
   ],
   "source": [
    "import dronekit_sitl\n",
    "from dronekit import connect, VehicleMode\n",
    "from pymavlink import mavutil\n",
    "\n",
    "from time import sleep\n",
    "\n",
    "sitl = dronekit_sitl.start_default()\n",
    "# connection_string = \"127.0.0.1:14550\"\n",
    "connection_string = \"/dev/ttyACM0\"\n",
    "# connection_string = \"/dev/ttyUSB0\"\n",
    "\n",
    "vehicle = connect(connection_string, wait_ready=True)"
   ]
  },
  {
   "cell_type": "code",
   "execution_count": 11,
   "metadata": {},
   "outputs": [
    {
     "data": {
      "text/plain": [
       "(0.0, 0.0, 1.02)"
      ]
     },
     "execution_count": 11,
     "metadata": {},
     "output_type": "execute_result"
    }
   ],
   "source": [
    "vehicle.location.global_relative_frame.lat, vehicle.location.global_relative_frame.lon, vehicle.location.global_relative_frame.alt"
   ]
  },
  {
   "cell_type": "code",
   "execution_count": 4,
   "metadata": {},
   "outputs": [
    {
     "data": {
      "text/plain": [
       "(False, 'STABILIZE')"
      ]
     },
     "execution_count": 4,
     "metadata": {},
     "output_type": "execute_result"
    }
   ],
   "source": [
    "vehicle.armed, vehicle.mode.name"
   ]
  },
  {
   "cell_type": "code",
   "execution_count": 17,
   "metadata": {},
   "outputs": [
    {
     "data": {
      "text/plain": [
       "[0.0, 0.01, -0.01]"
      ]
     },
     "execution_count": 17,
     "metadata": {},
     "output_type": "execute_result"
    }
   ],
   "source": [
    "vehicle.velocity"
   ]
  },
  {
   "cell_type": "code",
   "execution_count": null,
   "metadata": {},
   "outputs": [],
   "source": [
    "vehicle.attitude.pitch, vehicle.attitude.roll, vehicle.attitude.yaw"
   ]
  },
  {
   "cell_type": "code",
   "execution_count": 5,
   "metadata": {},
   "outputs": [
    {
     "data": {
      "text/plain": [
       "0.1509373399999845"
      ]
     },
     "execution_count": 5,
     "metadata": {},
     "output_type": "execute_result"
    }
   ],
   "source": [
    "vehicle.last_heartbeat"
   ]
  },
  {
   "cell_type": "code",
   "execution_count": 21,
   "metadata": {},
   "outputs": [
    {
     "data": {
      "text/plain": [
       "0.021042032167315483"
      ]
     },
     "execution_count": 21,
     "metadata": {},
     "output_type": "execute_result"
    }
   ],
   "source": [
    "vehicle.groundspeed"
   ]
  },
  {
   "cell_type": "code",
   "execution_count": 6,
   "metadata": {},
   "outputs": [
    {
     "data": {
      "text/plain": [
       "(9999, 9999)"
      ]
     },
     "execution_count": 6,
     "metadata": {},
     "output_type": "execute_result"
    }
   ],
   "source": [
    "# for key in vehicle.parameters:\n",
    "#     print(key)\n",
    "vehicle.gps_0.eph, vehicle.gps_0.epv"
   ]
  },
  {
   "cell_type": "code",
   "execution_count": null,
   "metadata": {},
   "outputs": [],
   "source": [
    "vehicle.parameters[\"RTL_ALT\"]"
   ]
  },
  {
   "cell_type": "code",
   "execution_count": 7,
   "metadata": {},
   "outputs": [],
   "source": [
    "vehicle.home_location"
   ]
  },
  {
   "cell_type": "code",
   "execution_count": null,
   "metadata": {},
   "outputs": [],
   "source": [
    "@vehicle.parameters.on_attribute('RTL_ALT')\n",
    "def decorated_thr_min_callback(self, attr_name, value):\n",
    "    print(\" PARAMETER CALLBACK: %s changed to: %s\" % (attr_name, value))"
   ]
  },
  {
   "cell_type": "code",
   "execution_count": 7,
   "metadata": {},
   "outputs": [],
   "source": [
    "vehicle.channels.overrides['1'] = None"
   ]
  },
  {
   "cell_type": "code",
   "execution_count": 32,
   "metadata": {},
   "outputs": [
    {
     "data": {
      "text/plain": [
       "136"
      ]
     },
     "execution_count": 32,
     "metadata": {},
     "output_type": "execute_result"
    }
   ],
   "source": [
    "vehicle.heading"
   ]
  },
  {
   "cell_type": "code",
   "execution_count": 25,
   "metadata": {},
   "outputs": [],
   "source": [
    "vehicle.battery.level"
   ]
  },
  {
   "cell_type": "code",
   "execution_count": 11,
   "metadata": {},
   "outputs": [],
   "source": [
    "vehicle.close()"
   ]
  },
  {
   "cell_type": "code",
   "execution_count": 26,
   "metadata": {},
   "outputs": [],
   "source": [
    "# vehicle.on_message('RC_CHANNELS')\n",
    "# def chin_listener(name, message):\n",
    "#     print('%s attribute is: %s' % (name, message))\n",
    "#     # global pitch\n",
    "#     # global roll\n",
    "#     # global mod\n",
    "#     # global flag_rec\n",
    "\n",
    "    \n",
    "#     # pitch=message.chan2_raw    # copter (throttle)\n",
    "#     # roll=message.chan1_raw     # copter (angle)\n",
    "#     # throttle=message.chan3_raw # copter (throttle) \n",
    "#     # mod=message.chan6_raw      # fly, stop, shift left, right, switch SD\n",
    "#     # flag_rec=message.chan7_raw # drive - record mode, switch SG\n",
    "#     # print 'channels:',pitch,roll,mod,flag_rec"
   ]
  },
  {
   "cell_type": "code",
   "execution_count": 50,
   "metadata": {},
   "outputs": [
    {
     "data": {
      "text/plain": [
       "{'1': None,\n",
       " '2': None,\n",
       " '3': None,\n",
       " '4': None,\n",
       " '5': None,\n",
       " '6': None,\n",
       " '7': None,\n",
       " '8': None}"
      ]
     },
     "execution_count": 50,
     "metadata": {},
     "output_type": "execute_result"
    }
   ],
   "source": [
    "vehicle.channels  #, vehicle.mode.name"
   ]
  },
  {
   "cell_type": "code",
   "execution_count": 43,
   "metadata": {},
   "outputs": [],
   "source": [
    "vehicle.channels['1']"
   ]
  },
  {
   "cell_type": "code",
   "execution_count": null,
   "metadata": {},
   "outputs": [],
   "source": [
    "while True:\n",
    "    print(f\"\\r{vehicle.mode.name}                    \", end=\"\", flush=True)"
   ]
  },
  {
   "cell_type": "code",
   "execution_count": 47,
   "metadata": {},
   "outputs": [],
   "source": [
    "vehicle.close()"
   ]
  },
  {
   "cell_type": "code",
   "execution_count": 8,
   "metadata": {},
   "outputs": [
    {
     "data": {
      "text/plain": [
       "-3.131220579147339"
      ]
     },
     "execution_count": 8,
     "metadata": {},
     "output_type": "execute_result"
    }
   ],
   "source": [
    "vehicle.attitude.yaw"
   ]
  },
  {
   "cell_type": "code",
   "execution_count": 9,
   "metadata": {},
   "outputs": [],
   "source": [
    "vehicle.close()"
   ]
  },
  {
   "cell_type": "code",
   "execution_count": null,
   "metadata": {},
   "outputs": [],
   "source": []
  }
 ],
 "metadata": {
  "kernelspec": {
   "display_name": "Python 3",
   "language": "python",
   "name": "python3"
  },
  "language_info": {
   "codemirror_mode": {
    "name": "ipython",
    "version": 3
   },
   "file_extension": ".py",
   "mimetype": "text/x-python",
   "name": "python",
   "nbconvert_exporter": "python",
   "pygments_lexer": "ipython3",
   "version": "3.8.10"
  }
 },
 "nbformat": 4,
 "nbformat_minor": 2
}
